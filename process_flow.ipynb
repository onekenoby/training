{
 "cells": [
  {
   "cell_type": "code",
   "execution_count": 4,
   "metadata": {},
   "outputs": [
    {
     "data": {
      "text/plain": [
       "'processo_riabilitazione.png'"
      ]
     },
     "execution_count": 4,
     "metadata": {},
     "output_type": "execute_result"
    }
   ],
   "source": [
    "import os\n",
    "from graphviz import Digraph\n",
    "\n",
    "# Aggiungi il percorso di Graphviz al PATH temporaneamente\n",
    "os.environ[\"PATH\"] += os.pathsep + r\"C:\\Program Files (x86)\\Graphviz\\bin\"\n",
    "\n",
    "# Creazione del grafo diretto\n",
    "dot = Digraph(comment='Processo di riabilitazione', format='png')\n",
    "\n",
    "# Definizione dei nodi\n",
    "dot.node('A', 'Contatto con la struttura fisioterapica')\n",
    "dot.node('B', 'Valutazione del paziente')\n",
    "dot.node('C', 'Assegnazione del fisioterapista')\n",
    "dot.node('D', 'Scelta della modalità (in sede o online)')\n",
    "dot.node('E', 'Creazione account piattaforma web')\n",
    "dot.node('F', 'Assegnazione esercizi')\n",
    "dot.node('G', 'Esecuzione esercizi davanti alla telecamera')\n",
    "dot.node('H', 'Feedback del sistema (barra progressione)')\n",
    "dot.node('I', 'Pianificazione appuntamenti')\n",
    "\n",
    "# Definizione delle relazioni (freccia di processo)\n",
    "dot.edge('A', 'B', 'Il paziente contatta la struttura')\n",
    "dot.edge('B', 'C', 'Valutazione e assegnazione fisioterapista')\n",
    "dot.edge('C', 'D', 'Scelta della modalità')\n",
    "dot.edge('D', 'E', 'Scelta piattaforma web')\n",
    "dot.edge('E', 'F', 'Creazione account e assegnazione esercizi')\n",
    "dot.edge('F', 'G', 'Esecuzione esercizi')\n",
    "dot.edge('G', 'H', 'Telecamera e feedback sul movimento')\n",
    "dot.edge('H', 'I', 'Pianificazione prossimi appuntamenti')\n",
    "\n",
    "# Visualizzazione del grafico\n",
    "dot.render('processo_riabilitazione', view=True)"
   ]
  },
  {
   "cell_type": "code",
   "execution_count": null,
   "metadata": {},
   "outputs": [],
   "source": [
    "import os\n",
    "from graphviz import Digraph\n",
    "\n",
    "# Aggiungi il percorso di Graphviz al PATH temporaneamente (Sostituisci con il percorso corretto)\n",
    "os.environ[\"PATH\"] += os.pathsep + r\"C:\\Program Files (x86)\\Graphviz\\bin\"\n",
    "\n",
    "# Creazione del grafo diretto\n",
    "dot = Digraph(\n",
    "    comment='Processo di riabilitazione tramite piattaforma web', format='png')\n",
    "\n",
    "# Definizione dei nodi principali del processo\n",
    "dot.node('A', 'Contatto con la struttura fisioterapica')\n",
    "dot.node('B', 'Valutazione del paziente da parte dello staff medico')\n",
    "dot.node('C', 'Assegnazione del fisioterapista')\n",
    "dot.node('D', 'Scelta modalità terapia (in sede o online)')\n",
    "dot.node('E', 'Creazione dell\\'account sulla piattaforma web')\n",
    "dot.node('F', 'Assegnazione degli esercizi in base alla terapia')\n",
    "dot.node('G', 'Login del paziente sulla piattaforma')\n",
    "dot.node('H', 'Visualizzazione del video tutorial del fisioterapista')\n",
    "dot.node('I', 'Esecuzione degli esercizi con monitoraggio tramite telecamera')\n",
    "dot.node('J', 'Feedback in tempo reale sulla correttezza degli esercizi')\n",
    "dot.node('K', 'Pianificazione degli appuntamenti successivi')\n",
    "dot.node('L', 'Sistema di notifiche interne per appuntamenti e messaggi')\n",
    "\n",
    "# Definizione delle relazioni tra i passaggi del processo\n",
    "dot.edge('A', 'B', 'Il paziente contatta la struttura')\n",
    "dot.edge('B', 'C', 'Lo staff medico valuta il paziente')\n",
    "dot.edge('C', 'D', 'Assegnazione del fisioterapista')\n",
    "dot.edge('D', 'E', 'Scelta della modalità terapia online')\n",
    "dot.edge('E', 'F', 'Creazione account e assegnazione esercizi')\n",
    "dot.edge('F', 'G', 'Accesso alla piattaforma da parte del paziente')\n",
    "dot.edge('G', 'H', 'Selezione esercizio e visualizzazione tutorial')\n",
    "dot.edge('H', 'I', 'Esecuzione degli esercizi davanti alla telecamera')\n",
    "dot.edge('I', 'J', 'Monitoraggio e feedback sul movimento (barra rossa/verde)')\n",
    "dot.edge('J', 'K', 'Pianificazione delle prossime sessioni')\n",
    "dot.edge('K', 'L', 'Ricezione notifiche su appuntamenti e messaggi')\n",
    "\n",
    "# Visualizzazione del grafo (renderizza il diagramma e lo salva come file PNG)\n",
    "dot.render('processo_completo_riabilitazione', view=True)"
   ]
  },
  {
   "cell_type": "code",
   "execution_count": 7,
   "metadata": {},
   "outputs": [
    {
     "data": {
      "text/plain": [
       "'processo_condizionale_riabilitazione.png'"
      ]
     },
     "execution_count": 7,
     "metadata": {},
     "output_type": "execute_result"
    }
   ],
   "source": [
    "import os\n",
    "from graphviz import Digraph\n",
    "\n",
    "# Aggiungi il percorso di Graphviz al PATH temporaneamente (Sostituisci con il percorso corretto)\n",
    "os.environ[\"PATH\"] += os.pathsep + r\"C:\\Program Files (x86)\\Graphviz\\bin\"\n",
    "\n",
    "# Creazione del grafo diretto\n",
    "dot = Digraph(\n",
    "    comment='Processo di riabilitazione con condizione (scelta in sede o online)', format='png')\n",
    "\n",
    "# Definizione dei nodi comuni\n",
    "dot.node('A', 'Contatto con la struttura fisioterapica')\n",
    "dot.node('B', 'Valutazione del paziente da parte dello staff medico')\n",
    "dot.node('C', 'Assegnazione del fisioterapista')\n",
    "dot.node('D', 'Scelta: Terapia in sede o online?')\n",
    "\n",
    "# Aggiungiamo due decisioni visualizzate per \"in sede\" e \"online\"\n",
    "dot.node('D1', 'Scelta terapia in sede')\n",
    "dot.node('D2', 'Scelta terapia online')\n",
    "\n",
    "# Nodo comune di fine processo\n",
    "dot.node('Z', 'Fine del processo')\n",
    "\n",
    "# Definizione dei nodi specifici per \"Terapia in sede\"\n",
    "dot.node('E1', 'Pianificazione appuntamento presso la struttura')\n",
    "dot.node('F1', 'Sessione di riabilitazione in struttura con fisioterapista')\n",
    "dot.node('G1', 'Pianificazione prossime sedute in struttura')\n",
    "\n",
    "# Definizione delle relazioni per la terapia in sede\n",
    "dot.edge('A', 'B', 'Il paziente contatta la struttura')\n",
    "dot.edge('B', 'C', 'Lo staff medico valuta il paziente')\n",
    "dot.edge('C', 'D', 'Assegnazione del fisioterapista')\n",
    "dot.edge('D', 'D1', 'Terapia in sede')\n",
    "dot.edge('D1', 'E1', 'Pianificazione dell\\'appuntamento')\n",
    "dot.edge('E1', 'F1', 'Sessione di terapia in struttura')\n",
    "dot.edge('F1', 'G1', 'Pianificazione delle prossime sedute')\n",
    "dot.edge('G1', 'Z', 'Fine')\n",
    "\n",
    "# Definizione dei nodi specifici per \"Terapia online\"\n",
    "dot.node('E2', 'Creazione dell\\'account sulla piattaforma web')\n",
    "dot.node('F2', 'Assegnazione degli esercizi in base alla terapia')\n",
    "dot.node('G2', 'Login del paziente sulla piattaforma')\n",
    "dot.node('H2', 'Visualizzazione del video tutorial del fisioterapista')\n",
    "dot.node('I2', 'Esecuzione degli esercizi con monitoraggio tramite telecamera')\n",
    "dot.node('J2', 'Feedback in tempo reale sulla correttezza degli esercizi')\n",
    "dot.node('K2', 'Pianificazione degli appuntamenti successivi online')\n",
    "dot.node('L2', 'Sistema di notifiche interne per appuntamenti e messaggi')\n",
    "\n",
    "# Definizione delle relazioni per la terapia online\n",
    "dot.edge('D', 'D2', 'Terapia online')\n",
    "dot.edge('D2', 'E2', 'Creazione account e assegnazione esercizi')\n",
    "dot.edge('E2', 'F2', 'Accesso alla piattaforma da parte del paziente')\n",
    "dot.edge('F2', 'G2', 'Selezione esercizio e visualizzazione tutorial')\n",
    "dot.edge('G2', 'H2', 'Esecuzione degli esercizi davanti alla telecamera')\n",
    "dot.edge('H2', 'I2', 'Monitoraggio e feedback sul movimento (barra rossa/verde)')\n",
    "dot.edge('I2', 'J2', 'Feedback in tempo reale sugli esercizi')\n",
    "dot.edge('J2', 'K2', 'Pianificazione delle prossime sessioni')\n",
    "dot.edge('K2', 'L2', 'Notifiche interne per appuntamenti e messaggi')\n",
    "dot.edge('L2', 'Z', 'Fine')\n",
    "\n",
    "# Visualizzazione del grafo (renderizza il diagramma e lo salva come file PNG)\n",
    "dot.render('processo_condizionale_riabilitazione', view=True)"
   ]
  },
  {
   "cell_type": "code",
   "execution_count": null,
   "metadata": {},
   "outputs": [],
   "source": []
  }
 ],
 "metadata": {
  "kernelspec": {
   "display_name": "pyimage",
   "language": "python",
   "name": "python3"
  },
  "language_info": {
   "codemirror_mode": {
    "name": "ipython",
    "version": 3
   },
   "file_extension": ".py",
   "mimetype": "text/x-python",
   "name": "python",
   "nbconvert_exporter": "python",
   "pygments_lexer": "ipython3",
   "version": "3.12.5"
  }
 },
 "nbformat": 4,
 "nbformat_minor": 2
}
