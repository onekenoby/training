{
 "cells": [
  {
   "cell_type": "code",
   "execution_count": null,
   "metadata": {},
   "outputs": [],
   "source": []
  },
  {
   "cell_type": "code",
   "execution_count": null,
   "metadata": {},
   "outputs": [],
   "source": [
    "# Library installtion for apriori\n",
    "# !pip install apyori\n",
    "\n",
    "# Sample code to do Apriori in Python\n",
    "import apyori\n",
    "\n",
    "# Creating Sample Transactions\n",
    "transactions = [\n",
    "    ['Milk', 'Bread', 'Saffron'],\n",
    "    ['Milk', 'Saffron'],\n",
    "    ['Bread', 'Saffron', 'Wafer'],\n",
    "    ['Bread', 'Wafer'],\n",
    "]\n",
    "\n",
    "# Generating association rules\n",
    "Rules = list(apyori.apriori(transactions, min_support=0.5, min_confidence=0.5))\n",
    "\n",
    "# Extracting rules from the object\n",
    "for i in range(len(Rules)):\n",
    "    LHS = list(Rules[i][2][0][0])\n",
    "    RHS = list(Rules[i][2][0][1])\n",
    "    support = Rules[i][1]\n",
    "    confidence = Rules[i][2][0][2]\n",
    "    lift = Rules[i][2][0][3]\n",
    "    print(\"LHS:\", LHS, \"--\", \"RHS:\", RHS)\n",
    "    print(\"Support:\", support)\n",
    "    print(\"Confidence:\", confidence)\n",
    "    print(\"Lift:\", lift)\n",
    "    print(10*\"----\")"
   ]
  },
  {
   "cell_type": "code",
   "execution_count": null,
   "metadata": {},
   "outputs": [],
   "source": [
    "# https://www.datacamp.com/tutorial/association-rule-mining-python\n",
    "\n",
    "# load sample data\n",
    "\n",
    "from pycaret.datasets import get_data\n",
    "\n",
    "data = get_data('france')\n"
   ]
  },
  {
   "cell_type": "code",
   "execution_count": null,
   "metadata": {},
   "outputs": [],
   "source": [
    "from rpy2.robjects import r\n",
    "\n",
    "# Disable JIT in R\n",
    "r(\"library(compiler)\")\n",
    "r(\"enableJIT(0)\")  # Disable JIT"
   ]
  },
  {
   "cell_type": "code",
   "execution_count": 3,
   "metadata": {},
   "outputs": [
    {
     "name": "stdout",
     "output_type": "stream",
     "text": [
      "PATH: c:\\Users\\stefa\\anaconda3\\envs\\py3716;C:\\Users\\stefa\\anaconda3\\envs\\py3716;C:\\Users\\stefa\\anaconda3\\envs\\py3716\\Library\\mingw-w64\\bin;C:\\Users\\stefa\\anaconda3\\envs\\py3716\\Library\\usr\\bin;C:\\Users\\stefa\\anaconda3\\envs\\py3716\\Library\\bin;C:\\Users\\stefa\\anaconda3\\envs\\py3716\\Scripts;C:\\Users\\stefa\\anaconda3\\envs\\py3716\\bin;C:\\Program Files\\Common Files\\Oracle\\Java\\javapath;C:\\Program Files (x86)\\Common Files\\Oracle\\Java\\java8path;C:\\Program Files (x86)\\Common Files\\Oracle\\Java\\javapath;C:\\Perl64\\site\\bin;C:\\Perl64\\bin;C:\\app\\stefa\\product\\21c\\dbhomeXE\\bin;C:\\Program Files\\Microsoft\\jdk-11.0.16.101-hotspot\\bin;C:\\Python311\\Scripts;C:\\Python311;C:\\Program Files\\Eclipse Adoptium\\jdk-17.0.7.7-hotspot\\bin;C:\\Program Files\\NVIDIA GPU Computing Toolkit\\CUDA\\v11.4\\bin;C:\\Program Files\\NVIDIA GPU Computing Toolkit\\CUDA\\v11.4\\libnvvp;C:\\Program Files\\ImageMagick-7.1.0-Q16-HDRI;C:\\Program Files\\Microsoft MPI\\Bin;C:\\WINDOWS\\system32;C:\\WINDOWS;C:\\WINDOWS\\system32\\wbem;C:\\WINDOWS\\system32\\windowspowershell\\v1.0;c:\\windows\\system32;c:\\windows;c:\\windows\\system32\\wbem;c:\\windows\\system32\\windowspowershell\\v1.0;c:\\windows\\system32\\openssh;c:\\program files (x86)\\nvidia corporation\\physx\\common;c:\\program files\\nvidia corporation\\nvidia nvdlisr;c:\\program files\\git\\cmd;c:\\program files\\microsoft sql server\\130\\tools\\binn;c:\\program files\\microsoft sql server\\client sdk\\odbc\\170\\tools\\binn;C:\\Program Files\\NVIDIA GPU Computing Toolkit\\CUDA\\v11.2\\bin;C:\\WINDOWS\\System32\\Wbem;C:\\WINDOWS\\System32\\WindowsPowerShell\\v1.0;C:\\WINDOWS\\System32\\OpenSSH;C:\\Program Files\\dotnet;c:\\program files\\java\\jdk1.8.0_231\\bin;C:\\spark3\\bin;C:\\Program Files\\NVIDIA Corporation\\Nsight Compute 2021.2.0;C:\\chromedriver;C:\\Program Files\\Liquid Technologies\\Liquid Studio 2021\\XmlDataBinder19\\Redist19\\cpp\\win32\\bin;C:\\Program Files\\Liquid Technologies\\Liquid Studio 2021\\XmlDataBinder19\\Redist19\\cpp\\win64\\bin;c:\\users\\stefa\\rcc;C:\\Program Files\\Tesseract-OCR;C:\\Program Files (x86)\\AOMEI\\AOMEI Backupper\\6.9.1;C:\\Program Files (x86)\\Microsoft SQL Server\\150\\DTS\\Binn;C:\\Program Files\\Azure Data Studio\\bin;C:\\WINDOWS\\system32;C:\\WINDOWS;C:\\WINDOWS\\System32\\Wbem;C:\\WINDOWS\\System32\\WindowsPowerShell\\v1.0;C:\\WINDOWS\\System32\\OpenSSH;C:\\Program Files (x86)\\Deskshare\\Auto FTP Manager 7;C:\\Program Files\\PostgreSQL\\14\\bin;C:\\Program Files\\Microsoft SQL Server\\150\\Tools\\Binn;C:\\Program Files\\WireGuard;C:\\Program Files\\Calibre2;C:\\Program Files\\PuTTY;C:\\Strawberry\\c\\bin;C:\\Strawberry\\perl\\site\\bin;C:\\Strawberry\\perl\\bin;C:\\Program Files\\nodejs;C:\\ProgramData\\chocolatey\\bin;C:\\Program Files (x86)\\Pulse Secure\\VC142.CRT\\X64;C:\\Program Files (x86)\\Pulse Secure\\VC142.CRT\\X86;C:\\Program Files (x86)\\Common Files\\Pulse Secure\\TNC Client Plugin;C:\\Program Files\\Docker\\Docker\\resources\\bin;C:\\Program Files\\Git\\cmd;C:\\Program Files (x86)\\Incredibuild;C:\\Program Files (x86)\\Windows Kits\\10\\Windows Performance Toolkit;C:\\Program Files\\PowerShell\\7;C:\\Users\\stefa\\AppData\\Local\\ActiveState\\StateTool\\release\\bin;C:\\Users\\stefa\\AppData\\Local\\activestate\\cache\\bin;C:\\Program Files\\MySQL\\MySQL Shell 8.0\\bin;C:\\Users\\stefa\\AppData\\Local\\Microsoft\\WindowsApps;C:\\Users\\stefa\\AppData\\Local\\GitHubDesktop\\bin;C:\\Users\\stefa\\.dotnet\\tools;C:\\Users\\stefa\\AppData\\Local\\Programs\\MiKTeX\\miktex\\bin\\x64;C:\\Users\\stefa\\AppData\\Roaming\\TinyTeX\\bin\\win32;C:\\Users\\stefa\\rcc;C:\\Windows\\SysWow64;C:\\Users\\stefa\\AppData\\Local\\Programs\\Microsoft VS Code\\bin;C:\\Users\\stefa\\anaconda3\\condabin;C:\\Users\\stefa\\AppData\\Local\\Programs\\Julia-1.7.2\\bin;C:\\Users\\stefa\\.dotnet\\tools;C:\\Users\\stefa\\AppData\\Roaming\\npm;C:\\Users\\stefa\\AppData\\Local\\Programs\\Microsoft VS Code Insiders\\bin;C:\\Program Files\\PostgreSQL\\14\\lib;C:\\Program Files\\JetBrains\\IntelliJ IDEA Community Edition 2024.1.3\\bin;C:\\Program Files\\Microsoft Visual Studio\\2022\\Community\\MSBuild\\Current\\Bin;C:\\Program Files\\Microsoft Visual Studio\\2022\\Community\\VC\\Tools\\MSVC\\14.40.33807\\bin\\Hostx64\\x64;\"C:\\Program Files\\Microsoft Visual Studio\\2022\\Community\\VC\\Tools\\MSVC\\14.40.33807\\include;\";C:\\Program Files\\Microsoft Visual Studio\\2022\\Community\\VC\\Tools\\MSVC\\14.40.33807\\ATLMFC\\include;\"C:\\Program Files\\Microsoft Visual Studio\\2022\\Community\\VC\\Auxiliary\\VS\\include;\";\"C:\\Program Files\\Microsoft Visual Studio\\2022\\Community\\VC\\Tools\\MSVC\\14.40.33807\\ATLMFC\\lib\\x64;\";\"C:\\Program Files\\Microsoft Visual Studio\\2022\\Community\\VC\\Tools\\MSVC\\14.40.33807\\lib\\x64;\";C:\\Program Files (x86)\\Graphviz\\bin;C:\\Program Files\\R\\R-4.4.2\\bin\\x64;C:\\Program Files\\R\\R-4.4.2\\bin\\x64;C:\\Program Files\\R\\R-4.4.2\\bin\\x64;c:\\Users\\stefa\\anaconda3\\envs\\py3716\\lib\\site-packages\\numpy\\.libs;C:\\Program Files\\R\\R-4.4.2\\bin\\x64\n",
      "R_HOME: C:\\Program Files\\R\\R-4.4.2\n",
      "R_USER: C:\\Users\\stefa\n",
      "Successfully loaded R packages: plotly, htmlwidgets\n"
     ]
    }
   ],
   "source": [
    "import os\n",
    "\n",
    "# Set R_HOME and R_USER environment variables\n",
    "# Adjust this path to your actual R installation\n",
    "#os.environ['R_HOME'] = r'C:\\Program Files\\R\\R-4.4.1'\n",
    "os.environ['R_HOME'] = r'C:\\Program Files\\R\\R-4.4.2'\n",
    "os.environ['PATH'] += r';C:\\Program Files\\R\\R-4.4.2\\bin\\x64'\n",
    "print(\"PATH:\", os.environ.get(\"PATH\"))\n",
    "# Adjust this to your user directory\n",
    "os.environ['R_USER'] = r'C:\\Users\\stefa'\n",
    "\n",
    "# Verify the environment variables\n",
    "print(\"R_HOME:\", os.environ.get(\"R_HOME\"))\n",
    "print(\"R_USER:\", os.environ.get(\"R_USER\"))\n",
    "\n",
    "from rpy2.robjects import r, pandas2ri\n",
    "from rpy2.robjects.packages import importr\n",
    "\n",
    "\n",
    "\n",
    "# Activate automatic conversion between pandas and R data frames\n",
    "pandas2ri.activate()\n",
    "\n",
    "# Disable JIT in R\n",
    "r(\"library(compiler)\")\n",
    "r(\"enableJIT(0)\")  # Disable JIT\n",
    "\n",
    "# Load necessary R packages\n",
    "try:\n",
    "    plotly = importr('plotly')\n",
    "    htmlwidgets = importr('htmlwidgets')\n",
    "    print(\"Successfully loaded R packages: plotly, htmlwidgets\")\n",
    "except Exception as e:\n",
    "    print(f\"Error loading R packages: {e}\")"
   ]
  },
  {
   "cell_type": "code",
   "execution_count": 4,
   "metadata": {},
   "outputs": [
    {
     "name": "stdout",
     "output_type": "stream",
     "text": [
      "Data assigned to R:\n",
      "          x         y         z\n",
      "0  0.496714 -1.415371  0.357787\n",
      "1 -0.138264 -0.420645  0.560785\n",
      "2  0.647689 -0.342715  1.083051\n",
      "3  1.523030 -0.802277  1.053802\n",
      "4 -0.234153 -0.161286 -1.377669\n",
      "           x          y          z\n",
      "0  0.4967142 -1.4153707  0.3577874\n",
      "1 -0.1382643 -0.4206453  0.5607845\n",
      "2  0.6476885 -0.3427145  1.0830512\n",
      "3  1.5230299 -0.8022773  1.0538021\n",
      "4 -0.2341534 -0.1612857 -1.3776694\n",
      "5 -0.2341370  0.4040509 -0.9378250\n",
      "HTML file created successfully.\n"
     ]
    },
    {
     "ename": "AttributeError",
     "evalue": "'function' object has no attribute 'display'",
     "output_type": "error",
     "traceback": [
      "\u001b[1;31m---------------------------------------------------------------------------\u001b[0m",
      "\u001b[1;31mAttributeError\u001b[0m                            Traceback (most recent call last)",
      "\u001b[1;32m~\\AppData\\Local\\Temp\\ipykernel_17300\\1043604667.py\u001b[0m in \u001b[0;36m<module>\u001b[1;34m\u001b[0m\n\u001b[0;32m     38\u001b[0m \u001b[1;33m\u001b[0m\u001b[0m\n\u001b[0;32m     39\u001b[0m \u001b[1;31m# Display the interactive plot in Python using an IFrame\u001b[0m\u001b[1;33m\u001b[0m\u001b[1;33m\u001b[0m\u001b[1;33m\u001b[0m\u001b[0m\n\u001b[1;32m---> 40\u001b[1;33m \u001b[0mdisplay\u001b[0m\u001b[1;33m.\u001b[0m\u001b[0mdisplay\u001b[0m\u001b[1;33m(\u001b[0m\u001b[0mdisplay\u001b[0m\u001b[1;33m.\u001b[0m\u001b[0mIFrame\u001b[0m\u001b[1;33m(\u001b[0m\u001b[1;34m'plotly_plot.html'\u001b[0m\u001b[1;33m,\u001b[0m \u001b[0mwidth\u001b[0m\u001b[1;33m=\u001b[0m\u001b[1;36m800\u001b[0m\u001b[1;33m,\u001b[0m \u001b[0mheight\u001b[0m\u001b[1;33m=\u001b[0m\u001b[1;36m600\u001b[0m\u001b[1;33m)\u001b[0m\u001b[1;33m)\u001b[0m\u001b[1;33m\u001b[0m\u001b[1;33m\u001b[0m\u001b[0m\n\u001b[0m",
      "\u001b[1;31mAttributeError\u001b[0m: 'function' object has no attribute 'display'"
     ]
    }
   ],
   "source": [
    "\n",
    "# Create some example data in Python\n",
    "import pandas as pd\n",
    "import numpy as np\n",
    "\n",
    "np.random.seed(42)\n",
    "data = pd.DataFrame({\n",
    "    'x': np.random.normal(0, 1, 100),\n",
    "    'y': np.random.normal(0, 1, 100),\n",
    "    'z': np.random.normal(0, 1, 100)\n",
    "})\n",
    "\n",
    "# Convert the pandas DataFrame to an R data frame\n",
    "r_data = pandas2ri.py2rpy(data)\n",
    "\n",
    "# Assign the data to an R variable\n",
    "r.assign('data', r_data)\n",
    "\n",
    "# Print the first few rows of the data to ensure it is correctly assigned\n",
    "print(\"Data assigned to R:\")\n",
    "print(data.head())\n",
    "\n",
    "# Create an interactive 3D plot in R\n",
    "r_code = \"\"\"\n",
    "library(plotly)\n",
    "print(head(data))  # Print the data to verify it's correctly assigned in R\n",
    "p <- plot_ly(data, x = ~x, y = ~y, z = ~z, type = 'scatter3d', mode = 'markers')\n",
    "htmlwidgets::saveWidget(p, 'plotly_plot.html', selfcontained = FALSE)\n",
    "\"\"\"\n",
    "\n",
    "# Execute the R code\n",
    "r(r_code)\n",
    "\n",
    "# Check if the plotly_plot.html file exists\n",
    "if os.path.exists('plotly_plot.html'):\n",
    "    print(\"HTML file created successfully.\")\n",
    "else:\n",
    "    print(\"Failed to create HTML file.\")\n",
    "\n",
    "# Display the interactive plot in Python using an IFrame\n",
    "display.display(display.IFrame('plotly_plot.html', width=800, height=600))\n"
   ]
  },
  {
   "cell_type": "code",
   "execution_count": null,
   "metadata": {},
   "outputs": [],
   "source": [
    "\n"
   ]
  }
 ],
 "metadata": {
  "kernelspec": {
   "display_name": "pyimage",
   "language": "python",
   "name": "python3"
  },
  "language_info": {
   "codemirror_mode": {
    "name": "ipython",
    "version": 3
   },
   "file_extension": ".py",
   "mimetype": "text/x-python",
   "name": "python",
   "nbconvert_exporter": "python",
   "pygments_lexer": "ipython3",
   "version": "3.12.5"
  }
 },
 "nbformat": 4,
 "nbformat_minor": 2
}
